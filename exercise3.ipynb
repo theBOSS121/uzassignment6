{
 "cells": [
  {
   "cell_type": "code",
   "execution_count": 1,
   "metadata": {},
   "outputs": [],
   "source": [
    "import numpy as np\n",
    "import cv2\n",
    "from matplotlib import pyplot as plt\n",
    "import os\n",
    "from a6_utils import *"
   ]
  },
  {
   "cell_type": "markdown",
   "metadata": {},
   "source": [
    "# Exercise 3"
   ]
  },
  {
   "cell_type": "markdown",
   "metadata": {},
   "source": [
    "### a"
   ]
  },
  {
   "cell_type": "code",
   "execution_count": 104,
   "metadata": {},
   "outputs": [
    {
     "name": "stdout",
     "output_type": "stream",
     "text": [
      "[[ 0.92992935 -0.36773822]\n",
      " [ 0.36773822  0.92992935]]\n"
     ]
    }
   ],
   "source": [
    "data = np.loadtxt(\"data/points.txt\")\n",
    "n = len(data)\n",
    "mi = 1/n * np.cumsum(data, 0)[-1]\n",
    "Xd = np.zeros(data.shape)\n",
    "Xd[:,0] = data[:, 0] - mi[0]\n",
    "Xd[:,1] = data[:, 1] - mi[1]\n",
    "C = 1/(n-1) * np.matmul(Xd, Xd.T)\n",
    "U, D, VT = np.linalg.svd(C)\n",
    "D[D < 10**(-10)] = 0\n",
    "newD = 1 / ((np.eye(D.shape[0], D.shape[0]) * D) * (n-1) + 10**(-20))\n",
    "newD[newD == 10**20] = 0\n",
    "U = np.matmul(Xd.T, np.matmul(U, newD))[0:2,0:2]\n",
    "ee1 = U[:,0]\n",
    "ee1 /= np.sqrt(np.sum(ee1*ee1))\n",
    "ee2 = U[:,1]\n",
    "ee2 /= np.sqrt(np.sum(ee2*ee2))\n",
    "# print(ee1)\n",
    "# print(ee2)\n",
    "U[:, 0] = ee1\n",
    "U[:, 1] = ee2\n",
    "print(U)\n",
    "\n",
    "e1 = np.zeros((2,2))\n",
    "e1[0,:] = mi\n",
    "e1[1,:] = mi + ee1 * np.sqrt(D[0])\n",
    "e2 = np.zeros((2,2))\n",
    "e2[0,:] = mi\n",
    "e2[1,:] = mi + ee2 * np.sqrt(D[1])"
   ]
  },
  {
   "cell_type": "code",
   "execution_count": 121,
   "metadata": {},
   "outputs": [
    {
     "name": "stdout",
     "output_type": "stream",
     "text": [
      "[[ 0.00000000e+00  8.88178420e-16]\n",
      " [ 1.77635684e-15 -8.88178420e-16]\n",
      " [ 0.00000000e+00 -1.77635684e-15]\n",
      " [-8.88178420e-16  4.44089210e-16]\n",
      " [-8.88178420e-16  1.33226763e-15]]\n"
     ]
    }
   ],
   "source": [
    "pcaData = np.matmul(U.T, Xd.T)\n",
    "projectedData = np.matmul(U, pcaData).T\n",
    "projectedData[:,0] = projectedData[:,0] + mi[0]\n",
    "projectedData[:,1] = projectedData[:,1] + mi[1]\n",
    "print(data - projectedData)\n"
   ]
  },
  {
   "cell_type": "code",
   "execution_count": 120,
   "metadata": {},
   "outputs": [
    {
     "data": {
      "image/png": "[encoded data removed]",
      "text/plain": [
       "<Figure size 500x500 with 1 Axes>"
      ]
     },
     "metadata": {},
     "output_type": "display_data"
    }
   ],
   "source": [
    "f = plt.figure(figsize=(5, 5))\n",
    "f.add_subplot(1, 1, 1)\n",
    "plt.axis('equal')\n",
    "plt.plot(mi[0], mi[1], 'rx', markersize=6)\n",
    "plt.plot(data[:,0], data[:,1], 'bo', markersize=5)\n",
    "plt.plot(e1[:,0], e1[:,1], 'r-', markersize=5)\n",
    "plt.plot(e2[:,0], e2[:,1], 'g-', markersize=5)\n",
    "\n",
    "plt.plot(projectedData[:,0] + 0.1, projectedData[:,1] + 0.1, 'go', markersize=5)\n",
    "# drawEllipse(mi, C, 1)\n",
    "\n",
    "plt.show()"
   ]
  }
 ],
 "metadata": {
  "kernelspec": {
   "display_name": "Python 3.10.8 64-bit",
   "language": "python",
   "name": "python3"
  },
  "language_info": {
   "codemirror_mode": {
    "name": "ipython",
    "version": 3
   },
   "file_extension": ".py",
   "mimetype": "text/x-python",
   "name": "python",
   "nbconvert_exporter": "python",
   "pygments_lexer": "ipython3",
   "version": "3.10.8"
  },
  "orig_nbformat": 4,
  "vscode": {
   "interpreter": {
    "hash": "cb4d557434260ebf075e28dd60749004257cbe2841be8fafa16b5a0ada42e623"
   }
  }
 },
 "nbformat": 4,
 "nbformat_minor": 2
}
